{
 "cells": [
  {
   "cell_type": "markdown",
   "id": "78419bb9",
   "metadata": {},
   "source": [
    "# ASSIGNMENT"
   ]
  },
  {
   "cell_type": "markdown",
   "id": "976b64d6",
   "metadata": {},
   "source": [
    "# Q1)"
   ]
  },
  {
   "cell_type": "markdown",
   "id": "9dd20a10",
   "metadata": {},
   "source": [
    "## 1.a) Import libraries (pandas as pd, numpy as np and seaborn as sns)"
   ]
  },
  {
   "cell_type": "code",
   "execution_count": 1,
   "id": "288d6b3d",
   "metadata": {},
   "outputs": [
    {
     "name": "stdout",
     "output_type": "stream",
     "text": [
      "The history saving thread hit an unexpected error (OperationalError('attempt to write a readonly database')).History will not be written to the database.\n"
     ]
    }
   ],
   "source": [
    "#Import Library\n",
    "import pandas as pd\n",
    "import numpy as np\n",
    "import seaborn as sns\n",
    "%matplotlib inline"
   ]
  },
  {
   "cell_type": "markdown",
   "id": "3d508a8e",
   "metadata": {},
   "source": [
    "## 1.b) Read Data as df and use describe() method and head() method for the whole df"
   ]
  },
  {
   "cell_type": "code",
   "execution_count": 3,
   "id": "749bce8a",
   "metadata": {},
   "outputs": [],
   "source": [
    "df= pd.read_excel('Customer Dataset.xlsx')"
   ]
  },
  {
   "cell_type": "code",
   "execution_count": 5,
   "id": "87b8c086",
   "metadata": {},
   "outputs": [
    {
     "data": {
      "text/html": [
       "<div>\n",
       "<style scoped>\n",
       "    .dataframe tbody tr th:only-of-type {\n",
       "        vertical-align: middle;\n",
       "    }\n",
       "\n",
       "    .dataframe tbody tr th {\n",
       "        vertical-align: top;\n",
       "    }\n",
       "\n",
       "    .dataframe thead th {\n",
       "        text-align: right;\n",
       "    }\n",
       "</style>\n",
       "<table border=\"1\" class=\"dataframe\">\n",
       "  <thead>\n",
       "    <tr style=\"text-align: right;\">\n",
       "      <th></th>\n",
       "      <th>Customer_ID</th>\n",
       "      <th>Number_of_Tickets</th>\n",
       "      <th>Price</th>\n",
       "      <th>Revenue</th>\n",
       "      <th>Age</th>\n",
       "      <th>Income</th>\n",
       "      <th>Own_home</th>\n",
       "      <th>Own_car</th>\n",
       "      <th>Zip</th>\n",
       "      <th>Gender</th>\n",
       "      <th>Price_Category</th>\n",
       "      <th>Renewal</th>\n",
       "      <th>Age range 1</th>\n",
       "      <th>Age range 3</th>\n",
       "      <th>Age range 2</th>\n",
       "      <th>P</th>\n",
       "      <th>LTV</th>\n",
       "      <th>Dates</th>\n",
       "    </tr>\n",
       "  </thead>\n",
       "  <tbody>\n",
       "    <tr>\n",
       "      <th>count</th>\n",
       "      <td>5000.000000</td>\n",
       "      <td>5000.00000</td>\n",
       "      <td>5000.000000</td>\n",
       "      <td>5000.000000</td>\n",
       "      <td>5000.000000</td>\n",
       "      <td>5000.000000</td>\n",
       "      <td>5000.000000</td>\n",
       "      <td>5000.00000</td>\n",
       "      <td>5000.000000</td>\n",
       "      <td>5000.000000</td>\n",
       "      <td>5000.0000</td>\n",
       "      <td>5000.000000</td>\n",
       "      <td>5000.00000</td>\n",
       "      <td>5000.000000</td>\n",
       "      <td>5000.000000</td>\n",
       "      <td>5000.000000</td>\n",
       "      <td>5000.000000</td>\n",
       "      <td>5000</td>\n",
       "    </tr>\n",
       "    <tr>\n",
       "      <th>mean</th>\n",
       "      <td>2500.500000</td>\n",
       "      <td>2.27920</td>\n",
       "      <td>223.356000</td>\n",
       "      <td>495.540000</td>\n",
       "      <td>43.135600</td>\n",
       "      <td>92.701690</td>\n",
       "      <td>0.546000</td>\n",
       "      <td>0.79680</td>\n",
       "      <td>0.513800</td>\n",
       "      <td>0.605400</td>\n",
       "      <td>0.7226</td>\n",
       "      <td>0.650600</td>\n",
       "      <td>0.15120</td>\n",
       "      <td>1.580400</td>\n",
       "      <td>0.644000</td>\n",
       "      <td>2.375600</td>\n",
       "      <td>852.012000</td>\n",
       "      <td>2019-01-23 22:36:11.520000</td>\n",
       "    </tr>\n",
       "    <tr>\n",
       "      <th>min</th>\n",
       "      <td>1.000000</td>\n",
       "      <td>1.00000</td>\n",
       "      <td>180.000000</td>\n",
       "      <td>180.000000</td>\n",
       "      <td>18.000000</td>\n",
       "      <td>34.137000</td>\n",
       "      <td>0.000000</td>\n",
       "      <td>0.00000</td>\n",
       "      <td>0.000000</td>\n",
       "      <td>0.000000</td>\n",
       "      <td>0.0000</td>\n",
       "      <td>0.000000</td>\n",
       "      <td>0.00000</td>\n",
       "      <td>0.000000</td>\n",
       "      <td>0.000000</td>\n",
       "      <td>1.000000</td>\n",
       "      <td>180.000000</td>\n",
       "      <td>2018-03-01 00:00:00</td>\n",
       "    </tr>\n",
       "    <tr>\n",
       "      <th>25%</th>\n",
       "      <td>1250.750000</td>\n",
       "      <td>1.00000</td>\n",
       "      <td>180.000000</td>\n",
       "      <td>300.000000</td>\n",
       "      <td>28.000000</td>\n",
       "      <td>43.287500</td>\n",
       "      <td>0.000000</td>\n",
       "      <td>1.00000</td>\n",
       "      <td>0.000000</td>\n",
       "      <td>0.000000</td>\n",
       "      <td>0.0000</td>\n",
       "      <td>0.000000</td>\n",
       "      <td>0.00000</td>\n",
       "      <td>0.000000</td>\n",
       "      <td>0.000000</td>\n",
       "      <td>2.000000</td>\n",
       "      <td>480.000000</td>\n",
       "      <td>2018-10-15 00:00:00</td>\n",
       "    </tr>\n",
       "    <tr>\n",
       "      <th>50%</th>\n",
       "      <td>2500.500000</td>\n",
       "      <td>2.00000</td>\n",
       "      <td>180.000000</td>\n",
       "      <td>480.000000</td>\n",
       "      <td>46.000000</td>\n",
       "      <td>111.427500</td>\n",
       "      <td>1.000000</td>\n",
       "      <td>1.00000</td>\n",
       "      <td>0.000000</td>\n",
       "      <td>1.000000</td>\n",
       "      <td>0.0000</td>\n",
       "      <td>1.000000</td>\n",
       "      <td>0.00000</td>\n",
       "      <td>3.000000</td>\n",
       "      <td>0.000000</td>\n",
       "      <td>3.000000</td>\n",
       "      <td>900.000000</td>\n",
       "      <td>2019-01-10 00:00:00</td>\n",
       "    </tr>\n",
       "    <tr>\n",
       "      <th>75%</th>\n",
       "      <td>3750.250000</td>\n",
       "      <td>3.00000</td>\n",
       "      <td>240.000000</td>\n",
       "      <td>600.000000</td>\n",
       "      <td>56.000000</td>\n",
       "      <td>132.506750</td>\n",
       "      <td>1.000000</td>\n",
       "      <td>1.00000</td>\n",
       "      <td>1.000000</td>\n",
       "      <td>1.000000</td>\n",
       "      <td>1.0000</td>\n",
       "      <td>1.000000</td>\n",
       "      <td>0.00000</td>\n",
       "      <td>3.000000</td>\n",
       "      <td>2.000000</td>\n",
       "      <td>3.000000</td>\n",
       "      <td>1200.000000</td>\n",
       "      <td>2019-05-14 00:00:00</td>\n",
       "    </tr>\n",
       "    <tr>\n",
       "      <th>max</th>\n",
       "      <td>5000.000000</td>\n",
       "      <td>8.00000</td>\n",
       "      <td>300.000000</td>\n",
       "      <td>1920.000000</td>\n",
       "      <td>82.000000</td>\n",
       "      <td>173.124000</td>\n",
       "      <td>1.000000</td>\n",
       "      <td>1.00000</td>\n",
       "      <td>2.000000</td>\n",
       "      <td>1.000000</td>\n",
       "      <td>2.0000</td>\n",
       "      <td>1.000000</td>\n",
       "      <td>1.00000</td>\n",
       "      <td>3.000000</td>\n",
       "      <td>2.000000</td>\n",
       "      <td>3.000000</td>\n",
       "      <td>3840.000000</td>\n",
       "      <td>2019-12-25 00:00:00</td>\n",
       "    </tr>\n",
       "    <tr>\n",
       "      <th>std</th>\n",
       "      <td>1443.520003</td>\n",
       "      <td>1.17112</td>\n",
       "      <td>48.972001</td>\n",
       "      <td>246.433468</td>\n",
       "      <td>15.026789</td>\n",
       "      <td>43.356353</td>\n",
       "      <td>0.497929</td>\n",
       "      <td>0.40242</td>\n",
       "      <td>0.785069</td>\n",
       "      <td>0.488813</td>\n",
       "      <td>0.8162</td>\n",
       "      <td>0.476828</td>\n",
       "      <td>0.35828</td>\n",
       "      <td>1.497994</td>\n",
       "      <td>0.934579</td>\n",
       "      <td>0.732825</td>\n",
       "      <td>525.119779</td>\n",
       "      <td>NaN</td>\n",
       "    </tr>\n",
       "  </tbody>\n",
       "</table>\n",
       "</div>"
      ],
      "text/plain": [
       "       Customer_ID  Number_of_Tickets        Price      Revenue          Age  \\\n",
       "count  5000.000000         5000.00000  5000.000000  5000.000000  5000.000000   \n",
       "mean   2500.500000            2.27920   223.356000   495.540000    43.135600   \n",
       "min       1.000000            1.00000   180.000000   180.000000    18.000000   \n",
       "25%    1250.750000            1.00000   180.000000   300.000000    28.000000   \n",
       "50%    2500.500000            2.00000   180.000000   480.000000    46.000000   \n",
       "75%    3750.250000            3.00000   240.000000   600.000000    56.000000   \n",
       "max    5000.000000            8.00000   300.000000  1920.000000    82.000000   \n",
       "std    1443.520003            1.17112    48.972001   246.433468    15.026789   \n",
       "\n",
       "            Income     Own_home     Own_car          Zip       Gender  \\\n",
       "count  5000.000000  5000.000000  5000.00000  5000.000000  5000.000000   \n",
       "mean     92.701690     0.546000     0.79680     0.513800     0.605400   \n",
       "min      34.137000     0.000000     0.00000     0.000000     0.000000   \n",
       "25%      43.287500     0.000000     1.00000     0.000000     0.000000   \n",
       "50%     111.427500     1.000000     1.00000     0.000000     1.000000   \n",
       "75%     132.506750     1.000000     1.00000     1.000000     1.000000   \n",
       "max     173.124000     1.000000     1.00000     2.000000     1.000000   \n",
       "std      43.356353     0.497929     0.40242     0.785069     0.488813   \n",
       "\n",
       "       Price_Category      Renewal  Age range 1  Age range 3  Age range 2  \\\n",
       "count       5000.0000  5000.000000   5000.00000  5000.000000  5000.000000   \n",
       "mean           0.7226     0.650600      0.15120     1.580400     0.644000   \n",
       "min            0.0000     0.000000      0.00000     0.000000     0.000000   \n",
       "25%            0.0000     0.000000      0.00000     0.000000     0.000000   \n",
       "50%            0.0000     1.000000      0.00000     3.000000     0.000000   \n",
       "75%            1.0000     1.000000      0.00000     3.000000     2.000000   \n",
       "max            2.0000     1.000000      1.00000     3.000000     2.000000   \n",
       "std            0.8162     0.476828      0.35828     1.497994     0.934579   \n",
       "\n",
       "                 P          LTV                       Dates  \n",
       "count  5000.000000  5000.000000                        5000  \n",
       "mean      2.375600   852.012000  2019-01-23 22:36:11.520000  \n",
       "min       1.000000   180.000000         2018-03-01 00:00:00  \n",
       "25%       2.000000   480.000000         2018-10-15 00:00:00  \n",
       "50%       3.000000   900.000000         2019-01-10 00:00:00  \n",
       "75%       3.000000  1200.000000         2019-05-14 00:00:00  \n",
       "max       3.000000  3840.000000         2019-12-25 00:00:00  \n",
       "std       0.732825   525.119779                         NaN  "
      ]
     },
     "execution_count": 5,
     "metadata": {},
     "output_type": "execute_result"
    }
   ],
   "source": [
    "#General overlook with describe() method\n",
    "df_overlook = df.describe()\n",
    "df_overlook"
   ]
  },
  {
   "cell_type": "code",
   "execution_count": 7,
   "id": "9ce457a8",
   "metadata": {
    "scrolled": true
   },
   "outputs": [
    {
     "data": {
      "text/html": [
       "<div>\n",
       "<style scoped>\n",
       "    .dataframe tbody tr th:only-of-type {\n",
       "        vertical-align: middle;\n",
       "    }\n",
       "\n",
       "    .dataframe tbody tr th {\n",
       "        vertical-align: top;\n",
       "    }\n",
       "\n",
       "    .dataframe thead th {\n",
       "        text-align: right;\n",
       "    }\n",
       "</style>\n",
       "<table border=\"1\" class=\"dataframe\">\n",
       "  <thead>\n",
       "    <tr style=\"text-align: right;\">\n",
       "      <th></th>\n",
       "      <th>Customer_ID</th>\n",
       "      <th>Number_of_Tickets</th>\n",
       "      <th>Price</th>\n",
       "      <th>Revenue</th>\n",
       "      <th>Age</th>\n",
       "      <th>Income</th>\n",
       "      <th>Own_home</th>\n",
       "      <th>Own_car</th>\n",
       "      <th>Zip</th>\n",
       "      <th>Gender</th>\n",
       "      <th>Price_Category</th>\n",
       "      <th>Renewal</th>\n",
       "      <th>Age range 1</th>\n",
       "      <th>Age range 3</th>\n",
       "      <th>Age range 2</th>\n",
       "      <th>P</th>\n",
       "      <th>LTV</th>\n",
       "      <th>Campaign_ID</th>\n",
       "      <th>Dates</th>\n",
       "    </tr>\n",
       "  </thead>\n",
       "  <tbody>\n",
       "    <tr>\n",
       "      <th>0</th>\n",
       "      <td>277</td>\n",
       "      <td>2</td>\n",
       "      <td>180</td>\n",
       "      <td>360</td>\n",
       "      <td>19</td>\n",
       "      <td>35.065</td>\n",
       "      <td>0</td>\n",
       "      <td>0</td>\n",
       "      <td>0</td>\n",
       "      <td>0</td>\n",
       "      <td>0</td>\n",
       "      <td>0</td>\n",
       "      <td>1</td>\n",
       "      <td>0</td>\n",
       "      <td>0</td>\n",
       "      <td>1</td>\n",
       "      <td>360</td>\n",
       "      <td>1</td>\n",
       "      <td>2018-03-01</td>\n",
       "    </tr>\n",
       "    <tr>\n",
       "      <th>1</th>\n",
       "      <td>1383</td>\n",
       "      <td>2</td>\n",
       "      <td>180</td>\n",
       "      <td>360</td>\n",
       "      <td>22</td>\n",
       "      <td>37.742</td>\n",
       "      <td>0</td>\n",
       "      <td>0</td>\n",
       "      <td>0</td>\n",
       "      <td>0</td>\n",
       "      <td>0</td>\n",
       "      <td>0</td>\n",
       "      <td>1</td>\n",
       "      <td>0</td>\n",
       "      <td>0</td>\n",
       "      <td>1</td>\n",
       "      <td>360</td>\n",
       "      <td>1</td>\n",
       "      <td>2018-03-01</td>\n",
       "    </tr>\n",
       "    <tr>\n",
       "      <th>2</th>\n",
       "      <td>1404</td>\n",
       "      <td>2</td>\n",
       "      <td>180</td>\n",
       "      <td>360</td>\n",
       "      <td>19</td>\n",
       "      <td>35.210</td>\n",
       "      <td>0</td>\n",
       "      <td>0</td>\n",
       "      <td>0</td>\n",
       "      <td>0</td>\n",
       "      <td>0</td>\n",
       "      <td>0</td>\n",
       "      <td>1</td>\n",
       "      <td>0</td>\n",
       "      <td>0</td>\n",
       "      <td>1</td>\n",
       "      <td>360</td>\n",
       "      <td>537</td>\n",
       "      <td>2018-03-01</td>\n",
       "    </tr>\n",
       "    <tr>\n",
       "      <th>3</th>\n",
       "      <td>1595</td>\n",
       "      <td>2</td>\n",
       "      <td>180</td>\n",
       "      <td>360</td>\n",
       "      <td>20</td>\n",
       "      <td>36.072</td>\n",
       "      <td>0</td>\n",
       "      <td>0</td>\n",
       "      <td>0</td>\n",
       "      <td>0</td>\n",
       "      <td>0</td>\n",
       "      <td>1</td>\n",
       "      <td>1</td>\n",
       "      <td>0</td>\n",
       "      <td>0</td>\n",
       "      <td>1</td>\n",
       "      <td>720</td>\n",
       "      <td>1</td>\n",
       "      <td>2018-03-01</td>\n",
       "    </tr>\n",
       "    <tr>\n",
       "      <th>4</th>\n",
       "      <td>1604</td>\n",
       "      <td>1</td>\n",
       "      <td>300</td>\n",
       "      <td>300</td>\n",
       "      <td>56</td>\n",
       "      <td>133.972</td>\n",
       "      <td>1</td>\n",
       "      <td>1</td>\n",
       "      <td>0</td>\n",
       "      <td>1</td>\n",
       "      <td>2</td>\n",
       "      <td>1</td>\n",
       "      <td>0</td>\n",
       "      <td>3</td>\n",
       "      <td>0</td>\n",
       "      <td>3</td>\n",
       "      <td>600</td>\n",
       "      <td>Organic</td>\n",
       "      <td>2018-03-01</td>\n",
       "    </tr>\n",
       "  </tbody>\n",
       "</table>\n",
       "</div>"
      ],
      "text/plain": [
       "   Customer_ID  Number_of_Tickets  Price  Revenue  Age   Income  Own_home  \\\n",
       "0          277                  2    180      360   19   35.065         0   \n",
       "1         1383                  2    180      360   22   37.742         0   \n",
       "2         1404                  2    180      360   19   35.210         0   \n",
       "3         1595                  2    180      360   20   36.072         0   \n",
       "4         1604                  1    300      300   56  133.972         1   \n",
       "\n",
       "   Own_car  Zip  Gender  Price_Category  Renewal  Age range 1  Age range 3  \\\n",
       "0        0    0       0               0        0            1            0   \n",
       "1        0    0       0               0        0            1            0   \n",
       "2        0    0       0               0        0            1            0   \n",
       "3        0    0       0               0        1            1            0   \n",
       "4        1    0       1               2        1            0            3   \n",
       "\n",
       "   Age range 2  P  LTV Campaign_ID      Dates  \n",
       "0            0  1  360           1 2018-03-01  \n",
       "1            0  1  360           1 2018-03-01  \n",
       "2            0  1  360         537 2018-03-01  \n",
       "3            0  1  720           1 2018-03-01  \n",
       "4            0  3  600     Organic 2018-03-01  "
      ]
     },
     "execution_count": 7,
     "metadata": {},
     "output_type": "execute_result"
    }
   ],
   "source": [
    "#head()\n",
    "df_head = df.head()\n",
    "df_head"
   ]
  },
  {
   "cell_type": "markdown",
   "id": "628a05da",
   "metadata": {},
   "source": [
    "# Q2)"
   ]
  },
  {
   "cell_type": "markdown",
   "id": "e85252b2",
   "metadata": {},
   "source": [
    "## 2.a) Make these below histograms with displot\n",
    "- **Variable 'Age', # of bins =5**\n",
    "- **Variable 'Age', # of bins =10**\n",
    "- **Variable 'Age', # of bins =20**\n",
    "- **Variable 'Age', # of bins =30**"
   ]
  },
  {
   "cell_type": "markdown",
   "id": "d4cf5a0b",
   "metadata": {},
   "source": [
    "## 2.b) Make these below histograms with displot\n",
    "- **Variable 'Income', # of bins =5**\n",
    "- **Variable 'Income', # of bins =10**\n",
    "- **Variable 'Income', # of bins =20**\n",
    "- **Variable 'Income', # of bins =30**"
   ]
  },
  {
   "cell_type": "markdown",
   "id": "1e557fca",
   "metadata": {},
   "source": [
    "## 2.a)"
   ]
  },
  {
   "cell_type": "code",
   "execution_count": 9,
   "id": "7b767b9b",
   "metadata": {},
   "outputs": [
    {
     "data": {
      "text/plain": [
       "<seaborn.axisgrid.FacetGrid at 0x1378d7ec0>"
      ]
     },
     "execution_count": 9,
     "metadata": {},
     "output_type": "execute_result"
    }
   ],
   "source": [
    "#Age 5 bin\n",
    "sns.displot(df, x=\"Age\", binwidth=5)"
   ]
  },
  {
   "cell_type": "code",
   "execution_count": 11,
   "id": "b2ab8bc8",
   "metadata": {},
   "outputs": [
    {
     "data": {
      "text/plain": [
       "<seaborn.axisgrid.FacetGrid at 0x1378d7b90>"
      ]
     },
     "execution_count": 11,
     "metadata": {},
     "output_type": "execute_result"
    }
   ],
   "source": [
    "#Age 10 bin\n",
    "sns.displot(df, x=\"Age\", binwidth=10)"
   ]
  },
  {
   "cell_type": "code",
   "execution_count": 13,
   "id": "394b4f46",
   "metadata": {},
   "outputs": [
    {
     "data": {
      "text/plain": [
       "<seaborn.axisgrid.FacetGrid at 0x150994fb0>"
      ]
     },
     "execution_count": 13,
     "metadata": {},
     "output_type": "execute_result"
    }
   ],
   "source": [
    "#Age 20 bin\n",
    "sns.displot(df, x=\"Age\", binwidth=20)"
   ]
  },
  {
   "cell_type": "code",
   "execution_count": 15,
   "id": "0fdf8f67",
   "metadata": {},
   "outputs": [
    {
     "data": {
      "text/plain": [
       "<seaborn.axisgrid.FacetGrid at 0x150002870>"
      ]
     },
     "execution_count": 15,
     "metadata": {},
     "output_type": "execute_result"
    }
   ],
   "source": [
    "#Age 30 bin\n",
    "sns.displot(df, x=\"Age\", binwidth=30)"
   ]
  },
  {
   "cell_type": "markdown",
   "id": "d5fcf143",
   "metadata": {},
   "source": [
    "## 2.b)"
   ]
  },
  {
   "cell_type": "code",
   "execution_count": 17,
   "id": "618c2522",
   "metadata": {},
   "outputs": [
    {
     "data": {
      "text/plain": [
       "<seaborn.axisgrid.FacetGrid at 0x15091f770>"
      ]
     },
     "execution_count": 17,
     "metadata": {},
     "output_type": "execute_result"
    }
   ],
   "source": [
    "#Income 5 bin\n",
    "sns.displot(df, x=\"Income\", binwidth=5)"
   ]
  },
  {
   "cell_type": "code",
   "execution_count": 19,
   "id": "f82bcc9a",
   "metadata": {},
   "outputs": [
    {
     "data": {
      "text/plain": [
       "<seaborn.axisgrid.FacetGrid at 0x134bd7260>"
      ]
     },
     "execution_count": 19,
     "metadata": {},
     "output_type": "execute_result"
    }
   ],
   "source": [
    "#Income 10 bin\n",
    "sns.displot(df, x=\"Income\", binwidth=10)"
   ]
  },
  {
   "cell_type": "code",
   "execution_count": 21,
   "id": "933568a9",
   "metadata": {},
   "outputs": [
    {
     "data": {
      "text/plain": [
       "<seaborn.axisgrid.FacetGrid at 0x130fd7ef0>"
      ]
     },
     "execution_count": 21,
     "metadata": {},
     "output_type": "execute_result"
    }
   ],
   "source": [
    "#Income 20 bin\n",
    "sns.displot(df, x=\"Income\", binwidth=20)"
   ]
  },
  {
   "cell_type": "code",
   "execution_count": 23,
   "id": "a46bcaf0",
   "metadata": {},
   "outputs": [
    {
     "data": {
      "text/plain": [
       "<seaborn.axisgrid.FacetGrid at 0x150b66690>"
      ]
     },
     "execution_count": 23,
     "metadata": {},
     "output_type": "execute_result"
    }
   ],
   "source": [
    "#Income 30 bin\n",
    "sns.displot(df, x=\"Income\", binwidth=30)"
   ]
  },
  {
   "cell_type": "markdown",
   "id": "8c4f2fe1",
   "metadata": {},
   "source": [
    "## 2.c) Set figure size as (12,5), set style as \"white\" and draw a kdeplot for 'Income' variable"
   ]
  },
  {
   "cell_type": "code",
   "execution_count": 25,
   "id": "e82660b8",
   "metadata": {},
   "outputs": [
    {
     "data": {
      "text/plain": [
       "<Axes: xlabel='Income', ylabel='Count'>"
      ]
     },
     "execution_count": 25,
     "metadata": {},
     "output_type": "execute_result"
    }
   ],
   "source": [
    "sns.set(rc = {'figure.figsize':(12,5)})\n",
    "sns.set_style(\"white\")\n",
    "sns.kdeplot(data=df, x=\"Income\")"
   ]
  },
  {
   "cell_type": "markdown",
   "id": "bb68f564",
   "metadata": {},
   "source": [
    "## 2.d) Make a filled displot for 'Income' variable, kind should be 'kde'. Set hue with 'Zip' variable."
   ]
  },
  {
   "cell_type": "code",
   "execution_count": 27,
   "id": "df9293b2",
   "metadata": {},
   "outputs": [
    {
     "data": {
      "text/plain": [
       "<seaborn.axisgrid.FacetGrid at 0x150b26a80>"
      ]
     },
     "execution_count": 27,
     "metadata": {},
     "output_type": "execute_result"
    }
   ],
   "source": [
    "sns.displot(df, x=\"Income\", hue=\"Zip\", kind=\"kde\")"
   ]
  },
  {
   "cell_type": "markdown",
   "id": "c7364456",
   "metadata": {},
   "source": [
    "# Q3)"
   ]
  },
  {
   "cell_type": "markdown",
   "id": "dc85d243",
   "metadata": {},
   "source": [
    "## 3) Make a pairplot with 'Age' and 'Number_of_Tickets' - and use 'Gender' as Hue \n",
    "\n",
    "## use a palette to your liking - keep in mind that 0 represents female and 1 represents male"
   ]
  },
  {
   "cell_type": "code",
   "execution_count": 29,
   "id": "f27c0c4b",
   "metadata": {},
   "outputs": [
    {
     "data": {
      "text/plain": [
       "<seaborn.axisgrid.PairGrid at 0x150cc2900>"
      ]
     },
     "execution_count": 29,
     "metadata": {},
     "output_type": "execute_result"
    }
   ],
   "source": [
    "sns.pairplot(df, hue = \"Gender\",palette=\"magma\")"
   ]
  },
  {
   "cell_type": "markdown",
   "id": "4a57fd7e",
   "metadata": {},
   "source": [
    "# Q4)"
   ]
  },
  {
   "cell_type": "markdown",
   "id": "ede9cfb3",
   "metadata": {},
   "source": [
    "## 4.a) Make boxplots. In the x axis should be 'Zip' (0,1,2) and y-axis 'Age'"
   ]
  },
  {
   "cell_type": "code",
   "execution_count": 42,
   "id": "62bf916b",
   "metadata": {},
   "outputs": [
    {
     "data": {
      "text/plain": [
       "<Axes: xlabel='LTV', ylabel='Density'>"
      ]
     },
     "execution_count": 42,
     "metadata": {},
     "output_type": "execute_result"
    }
   ],
   "source": [
    "sns.boxplot(data= df, x=\"Zip\", y=\"Age\", hue = 'Zip', palette=\"rainbow\")"
   ]
  },
  {
   "cell_type": "markdown",
   "id": "95ca54b4",
   "metadata": {},
   "source": [
    "## 4.b) Add 'Gender' variable as hue to Question 4.a"
   ]
  },
  {
   "cell_type": "code",
   "execution_count": 44,
   "id": "dea13ae4",
   "metadata": {},
   "outputs": [
    {
     "data": {
      "text/plain": [
       "<Axes: xlabel='LTV', ylabel='Density'>"
      ]
     },
     "execution_count": 44,
     "metadata": {},
     "output_type": "execute_result"
    }
   ],
   "source": [
    "sns.boxplot(data= df, x=\"Zip\", y=\"Age\",hue = 'Gender',palette='rainbow')"
   ]
  },
  {
   "cell_type": "markdown",
   "id": "1ed1e0dd",
   "metadata": {},
   "source": [
    "# Q5)"
   ]
  },
  {
   "cell_type": "markdown",
   "id": "b7e6a74a",
   "metadata": {},
   "source": [
    "## 5.a) Prepare violinplots- at x axis put 'Zip' variable and y axis 'Age' - use 'Gender' as hue "
   ]
  },
  {
   "cell_type": "code",
   "execution_count": 72,
   "id": "b174a814",
   "metadata": {},
   "outputs": [
    {
     "data": {
      "text/plain": [
       "<Axes: xlabel='LTV', ylabel='Density'>"
      ]
     },
     "execution_count": 72,
     "metadata": {},
     "output_type": "execute_result"
    }
   ],
   "source": [
    "sns.violinplot(data=df, x ='Zip', y =\"Age\", hue =\"Gender\")"
   ]
  },
  {
   "cell_type": "markdown",
   "id": "c941fff8",
   "metadata": {},
   "source": [
    "## 5.b) Change Q5.a)'s y axis with 'Income' variable"
   ]
  },
  {
   "cell_type": "code",
   "execution_count": 74,
   "id": "891512ab",
   "metadata": {},
   "outputs": [
    {
     "data": {
      "text/plain": [
       "<Axes: xlabel='LTV', ylabel='Density'>"
      ]
     },
     "execution_count": 74,
     "metadata": {},
     "output_type": "execute_result"
    }
   ],
   "source": [
    "sns.violinplot(data=df, x ='Zip', y =\"Income\", hue =\"Gender\")"
   ]
  },
  {
   "cell_type": "markdown",
   "id": "72496bb2",
   "metadata": {},
   "source": [
    "## 5.c) In addition to Q5.b) get dotted lines representing the quartiles that show the first, second, and third quartiles (please make split=True)"
   ]
  },
  {
   "cell_type": "code",
   "execution_count": 76,
   "id": "9e5208a2",
   "metadata": {},
   "outputs": [
    {
     "data": {
      "text/plain": [
       "<Axes: xlabel='LTV', ylabel='Density'>"
      ]
     },
     "execution_count": 76,
     "metadata": {},
     "output_type": "execute_result"
    }
   ],
   "source": [
    "sns.violinplot(data=df, x ='Zip', y =\"Income\", hue =\"Gender\", split=True, inner = \"quartile\")"
   ]
  },
  {
   "cell_type": "markdown",
   "id": "dcb59955",
   "metadata": {},
   "source": [
    "# Q6)"
   ]
  },
  {
   "cell_type": "markdown",
   "id": "d6863bbf",
   "metadata": {},
   "source": [
    "## Q6.a) Make a facetgrid for 'Income' variable and put 'Zip' variable to columns (height=5)"
   ]
  },
  {
   "cell_type": "code",
   "execution_count": 78,
   "id": "ac8f3a56",
   "metadata": {},
   "outputs": [
    {
     "data": {
      "text/plain": [
       "<seaborn.axisgrid.FacetGrid at 0x30fce7ce0>"
      ]
     },
     "execution_count": 78,
     "metadata": {},
     "output_type": "execute_result"
    }
   ],
   "source": [
    "g = sns.FacetGrid(df, col=\"Zip\", height=5)\n",
    "g.map(sns.histplot, \"Income\")"
   ]
  },
  {
   "cell_type": "markdown",
   "id": "10dbf8cc",
   "metadata": {},
   "source": [
    "## Q6.b) Make a facetgrid for 'Age' variable and put 'Zip' variable to columns (height=5)"
   ]
  },
  {
   "cell_type": "code",
   "execution_count": 80,
   "id": "6fcc3807",
   "metadata": {},
   "outputs": [
    {
     "data": {
      "text/plain": [
       "<seaborn.axisgrid.FacetGrid at 0x308535be0>"
      ]
     },
     "execution_count": 80,
     "metadata": {},
     "output_type": "execute_result"
    }
   ],
   "source": [
    "g = sns.FacetGrid(df, col=\"Zip\", height=5)\n",
    "g.map(sns.histplot, \"Age\")"
   ]
  },
  {
   "cell_type": "markdown",
   "id": "7a44a67f",
   "metadata": {},
   "source": [
    "## Q6.c) Make a facetgrid for 'Age' variable and put 'Zip' to columns (height=5, aspect=0.8)\n",
    "## Q6.c)  Please add legend and use hue for 'Gender' variable"
   ]
  },
  {
   "cell_type": "code",
   "execution_count": 82,
   "id": "b661662c",
   "metadata": {},
   "outputs": [
    {
     "data": {
      "text/plain": [
       "<seaborn.axisgrid.FacetGrid at 0x314d66c60>"
      ]
     },
     "execution_count": 82,
     "metadata": {},
     "output_type": "execute_result"
    }
   ],
   "source": [
    "g = sns.FacetGrid(df, col=\"Zip\", hue=\"Gender\", height=5, aspect=0.8)\n",
    "g.map(sns.histplot, \"Age\")\n",
    "g.add_legend()"
   ]
  },
  {
   "cell_type": "markdown",
   "id": "5c02fa3d",
   "metadata": {},
   "source": [
    "## Great job!"
   ]
  }
 ],
 "metadata": {
  "kernelspec": {
   "display_name": "Python [conda env:base] *",
   "language": "python",
   "name": "conda-base-py"
  },
  "language_info": {
   "codemirror_mode": {
    "name": "ipython",
    "version": 3
   },
   "file_extension": ".py",
   "mimetype": "text/x-python",
   "name": "python",
   "nbconvert_exporter": "python",
   "pygments_lexer": "ipython3",
   "version": "3.12.7"
  }
 },
 "nbformat": 4,
 "nbformat_minor": 5
}
